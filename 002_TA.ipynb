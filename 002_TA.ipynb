{
 "cells": [
  {
   "cell_type": "markdown",
   "id": "b5e39f09",
   "metadata": {},
   "source": [
    "# Proyecto TA"
   ]
  },
  {
   "cell_type": "code",
   "execution_count": 11,
   "id": "0fc5fce1",
   "metadata": {},
   "outputs": [],
   "source": [
    "import pandas as pd \n",
    "import numpy as np\n",
    "import ta \n",
    "from ta.trend import MACD\n",
    "from ta.momentum import RSIIndicator \n",
    "from typing import List"
   ]
  },
  {
   "cell_type": "code",
   "execution_count": 23,
   "id": "8bc72f89",
   "metadata": {},
   "outputs": [],
   "source": [
    "# Data\n",
    "train_d = pd.read_csv('Files/aapl_5m_train.csv')\n",
    "validation_d = pd.read_csv('Files/aapl_5m_validation.csv')"
   ]
  },
  {
   "cell_type": "code",
   "execution_count": 25,
   "id": "08f29de0",
   "metadata": {},
   "outputs": [],
   "source": [
    "#Signal generation \n",
    "def gen_signals(strat:List[int],signal_type:str,*args):\n",
    "    ct = 0\n",
    "    strat_args = args\n",
    "    macd,sma,rsi = strat\n",
    "    df = pd.DataFrame()\n",
    "    \n",
    "    if sma:\n",
    "        long = strat_args[ct]\n",
    "        short = strat_args[ct+1]\n",
    "        ct += 2\n",
    "        \n",
    "        short_sma = ta.trend.SMAIndicator(train_d.Close,window=long) \n",
    "        long_sma = ta.trend.SMAIndicator(train_d.Close,window=short)\n",
    "        \n",
    "        train_d[\"short_sma\"] = short_sma.sma_indicator()\n",
    "        train_d[\"long_sma\"] = long_sma.sma_indicator()    \n",
    "    \n",
    "    if macd:\n",
    "        slow_period = 26 \n",
    "        fast_period = 12\n",
    "        signal_period = 9\n",
    "        \n",
    "        macd = MACD(train_d['Close'], window_slow=slow_period, window_fast=fast_period, window_sign=signal_period)\n",
    "        train_d['MACD'] = macd.macd()\n",
    "        train_d['Signal'] = macd.macd_signal()\n",
    "        \n",
    "    if rsi:\n",
    "        rsi_period = strat_args[ct]\n",
    "        ct += 1\n",
    "        \n",
    "        rsi_indicator = RSIIndicator(train_d['Close'],window=rsi_period)\n",
    "        train_d['RSI'] = rsi_indicator.rsi()\n",
    "\n",
    "        \n",
    "    #Generar los BUY/SELL dependiendo del indicador\n",
    "    if signal_type == \"BUY\":\n",
    "        \n",
    "        train_d['SMA_Buy_Signal'] = 0\n",
    "        train_d.loc[train_d['long_sma'] > train_d['short_sma'], 'SMA_Buy_Signal'] = 1\n",
    "\n",
    "        train_d['MACD_Buy_Signal'] = 0\n",
    "        train_d.loc[(train_d['MACD'] > train_d['Signal']) & (train_d['MACD'] > 0), 'MACD_Buy_Signal'] = 1\n",
    "\n",
    "        train_d['RSI_Buy_Signal'] = 0\n",
    "        train_d.loc[train_d['RSI'] > 70, 'RSI_Buy_Signal'] = 1\n",
    "\n",
    "    elif signal_type == \"SELL\":\n",
    "        \n",
    "        train_d['SMA_Sell_Signal'] = 0\n",
    "        train_d.loc[train_d['long_sma'] < train_d['short_sma'], 'SMA_Sell_Signal'] = 1\n",
    "\n",
    "        train_d['MACD_Sell_Signal'] = 0\n",
    "        train_d.loc[(train_d['MACD'] < train_d['Signal']) & (train_d['MACD'] < 0), 'MACD_Sell_Signal'] = 1\n",
    "\n",
    "        train_d['RSI_Sell_Signal'] = 0\n",
    "        train_d.loc[train_d['RSI'] < 30, 'RSI_Sell_Signal'] = 1\n",
    "\n",
    "    return train_d   "
   ]
  },
  {
   "cell_type": "code",
   "execution_count": null,
   "id": "48e17d29",
   "metadata": {},
   "outputs": [],
   "source": [
    "#Ejemplo\n",
    "strategy = [1,1,1]  # 1 MACD, 1 SMA, 1 RSI\n",
    "signal_type = \"BUY\"  \n",
    "sma_args = [50, 20]  # Long and Short SMA periods\n",
    "rsi_args = [14]  # RSI period\n",
    "\n",
    "result_df = gen_signals(strategy, signal_type, *sma_args, *rsi_args) "
   ]
  },
  {
   "cell_type": "code",
   "execution_count": 3,
   "id": "5131e174",
   "metadata": {},
   "outputs": [],
   "source": [
    "# Combinations (Strategies)\n",
    "n = list(range(1, 2**5))\n",
    "combinations = list(map(lambda x: [int(bit) for bit in f\"{x:05b}\"], n))"
   ]
  },
  {
   "cell_type": "code",
   "execution_count": 5,
   "id": "0f800bab",
   "metadata": {},
   "outputs": [],
   "source": [
    "#Strategy Backtesting\n",
    "comission = .0025\n",
    "stop_loss = .035\n",
    "take_profit = .035\n",
    "cash = 1000000\n",
    "\n",
    "\n",
    "# Checar a partir esto\n",
    "def backtest(strat,sl,tp,*strat_args):\n",
    "    positions = []\n",
    "    operations = []\n",
    "    \n",
    "#     strategy_signals = gen_signals(strat,signal_type:str,*strat_args)\n",
    "    \n",
    "#     for time, row in strategy_signals,iterations()\n",
    "#         if row.sum() = len(row)"
   ]
  },
  {
   "cell_type": "code",
   "execution_count": 6,
   "id": "40125e61",
   "metadata": {},
   "outputs": [],
   "source": [
    "# Parameter Optimization\n",
    "def minimize_port(x: np.array, byte_array: List[int]):\n",
    "    sl, tp, *strat_args = x\n",
    "    v = backtest(byte_array, sl, tp, strat_args)\n",
    "    return -v"
   ]
  },
  {
   "cell_type": "code",
   "execution_count": 7,
   "id": "7771d6d6",
   "metadata": {},
   "outputs": [],
   "source": [
    "#1 Select strategies\n",
    "#2 Trade Signals(Buy/sell)\n",
    "#3 Backtesting-> Portafolio Val\n",
    "#4 Max Profit (SL 1-5%, TP 1-5%, PL1 1-50, PL2 51,200) #Stop loss / take profit \n",
    "#5 Params \n",
    "#6 Test all possible combinations\n",
    "#7 Select optimal strategy\n",
    "#8 Backtest with data"
   ]
  }
 ],
 "metadata": {
  "kernelspec": {
   "display_name": "Python 3 (ipykernel)",
   "language": "python",
   "name": "python3"
  },
  "language_info": {
   "codemirror_mode": {
    "name": "ipython",
    "version": 3
   },
   "file_extension": ".py",
   "mimetype": "text/x-python",
   "name": "python",
   "nbconvert_exporter": "python",
   "pygments_lexer": "ipython3",
   "version": "3.7.4"
  }
 },
 "nbformat": 4,
 "nbformat_minor": 5
}
