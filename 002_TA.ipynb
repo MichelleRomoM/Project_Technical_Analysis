{
 "cells": [
  {
   "cell_type": "code",
   "execution_count": 18,
   "id": "0fc5fce1",
   "metadata": {},
   "outputs": [],
   "source": [
    "import pandas as pd \n",
    "import numpy as np"
   ]
  },
  {
   "cell_type": "code",
   "execution_count": 3,
   "id": "8bc72f89",
   "metadata": {},
   "outputs": [],
   "source": [
    "train_d = pd.read_csv('aapl_5m_train.csv')\n",
    "validation_d = pd.read_csv('aapl_5m_validation.csv')"
   ]
  },
  {
   "cell_type": "code",
   "execution_count": 4,
   "id": "7771d6d6",
   "metadata": {},
   "outputs": [],
   "source": [
    "#1 Select strategies\n",
    "#2 Trade Signals(Buy/sell)\n",
    "#3 Backtesting-> Portafolio Val\n",
    "#4 Max Profit (SL 1-5%, TP 1-5%, PL1 1-50, PL2 51,200)\n",
    "#5 Params \n",
    "#6 Test all possible combinations\n",
    "#7 Select optimal strategy\n",
    "#8 Backtest with data"
   ]
  },
  {
   "cell_type": "code",
   "execution_count": 29,
   "id": "08f29de0",
   "metadata": {},
   "outputs": [
    {
     "ename": "SyntaxError",
     "evalue": "invalid syntax (Temp/ipykernel_724/4073730830.py, line 16)",
     "output_type": "error",
     "traceback": [
      "\u001b[1;36m  File \u001b[1;32m\"C:\\Users\\marmr\\AppData\\Local\\Temp/ipykernel_724/4073730830.py\"\u001b[1;36m, line \u001b[1;32m16\u001b[0m\n\u001b[1;33m    strategy_signals = gen_signals(strat,signal_type:str,*strat_args)\u001b[0m\n\u001b[1;37m                                                    ^\u001b[0m\n\u001b[1;31mSyntaxError\u001b[0m\u001b[1;31m:\u001b[0m invalid syntax\n"
     ]
    }
   ],
   "source": [
    "# Strategies\n",
    "n = list(range(1,2**5))\n",
    "combinations = list(map(lambda x: [int(bit) for bit in f\"{x:05b}\"], n))\n",
    "\n",
    "from typing import List\n",
    "def minimize_port(x: np.array, byte_array: List[int]):\n",
    "    sl, tp, *strat_args = x\n",
    "    v = backtest(byte_array, sl, tp, strat_args)\n",
    "    return -v\n",
    "\n",
    "# Checar a partir esto\n",
    "def backtest(strat,sl,tp,*strat_args):\n",
    "    strategy_signals = gen_signals(strat,signal_type:str,*strat_args)\n",
    "    \n",
    "    for time, row in strategy_signals,iterations()\n",
    "        if row.sum() = len(row)\n",
    "        \n",
    "def gen_signals(strat:list[int],signal_type:str,*args):\n",
    "    ct = 0\n",
    "    strat_args = args\n",
    "    macd,sma,rsi = strat\n",
    "    \n",
    "    if macd:\n",
    "        ct += strat_dict[\"macd\"][\"num_params\"]\n",
    "        ...\n",
    "    if sma:\n",
    "        long = strat_args[ct]\n",
    "        short = strat_args[ct+1]\n",
    "        ct +=\n",
    "            if signal_type == \"BUY\":\n",
    "                df[\"sma\"]"
   ]
  }
 ],
 "metadata": {
  "kernelspec": {
   "display_name": "Python 3 (ipykernel)",
   "language": "python",
   "name": "python3"
  },
  "language_info": {
   "codemirror_mode": {
    "name": "ipython",
    "version": 3
   },
   "file_extension": ".py",
   "mimetype": "text/x-python",
   "name": "python",
   "nbconvert_exporter": "python",
   "pygments_lexer": "ipython3",
   "version": "3.7.4"
  }
 },
 "nbformat": 4,
 "nbformat_minor": 5
}
